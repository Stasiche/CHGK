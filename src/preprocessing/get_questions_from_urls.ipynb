{
 "cells": [
  {
   "cell_type": "code",
   "execution_count": 9,
   "id": "subject-bahrain",
   "metadata": {},
   "outputs": [],
   "source": [
    "import requests\n",
    "from bs4 import BeautifulSoup\n",
    "from collections import deque\n",
    "\n",
    "from tqdm.notebook import tqdm"
   ]
  },
  {
   "cell_type": "code",
   "execution_count": 5,
   "id": "enabling-psychology",
   "metadata": {},
   "outputs": [],
   "source": [
    "with open('questions_list.txt', 'r') as f:\n",
    "    ql = set(map(lambda x: x.strip('\\n'), f.readlines()))"
   ]
  },
  {
   "cell_type": "code",
   "execution_count": 7,
   "id": "electoral-symposium",
   "metadata": {},
   "outputs": [],
   "source": [
    "main_url = 'http://questions.chgk.info'"
   ]
  },
  {
   "cell_type": "code",
   "execution_count": null,
   "id": "worst-basic",
   "metadata": {},
   "outputs": [
    {
     "data": {
      "application/vnd.jupyter.widget-view+json": {
       "model_id": "85aa7b395b954711b537ab7211b7a815",
       "version_major": 2,
       "version_minor": 0
      },
      "text/plain": [
       "HBox(children=(FloatProgress(value=0.0, max=11879.0), HTML(value='')))"
      ]
     },
     "metadata": {},
     "output_type": "display_data"
    }
   ],
   "source": [
    "%%time\n",
    "all_q = []\n",
    "for l in tqdm(ql):\n",
    "    page = requests.get(f'{main_url}{l}')\n",
    "    soup = BeautifulSoup(page.content, 'html5lib')\n",
    "    all_q += [' '.join(el.get_text().split('\\n')[1:]) for el in soup.find_all('a') \n",
    "              if el.get_text().startswith('Вопрос')]"
   ]
  },
  {
   "cell_type": "code",
   "execution_count": null,
   "id": "hollywood-salvation",
   "metadata": {},
   "outputs": [],
   "source": [
    "with open('questions.txt', 'w') as f:\n",
    "    f.write(\"\\n\".join(all_q))"
   ]
  }
 ],
 "metadata": {
  "kernelspec": {
   "display_name": "Python 3",
   "language": "python",
   "name": "python3"
  },
  "language_info": {
   "codemirror_mode": {
    "name": "ipython",
    "version": 3
   },
   "file_extension": ".py",
   "mimetype": "text/x-python",
   "name": "python",
   "nbconvert_exporter": "python",
   "pygments_lexer": "ipython3",
   "version": "3.7.9"
  }
 },
 "nbformat": 4,
 "nbformat_minor": 5
}
