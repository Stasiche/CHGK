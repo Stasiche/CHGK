{
 "cells": [
  {
   "cell_type": "code",
   "execution_count": 1,
   "metadata": {},
   "outputs": [],
   "source": [
    "import pandas as pd\n",
    "import re\n",
    "\n",
    "flt = re.compile(r\"(pic|vk|jpe?g|<раздатка>|(1\\.)|&#|переведите|---)\")"
   ]
  },
  {
   "cell_type": "code",
   "execution_count": 2,
   "metadata": {},
   "outputs": [
    {
     "data": {
      "text/html": [
       "<div>\n",
       "<style scoped>\n",
       "    .dataframe tbody tr th:only-of-type {\n",
       "        vertical-align: middle;\n",
       "    }\n",
       "\n",
       "    .dataframe tbody tr th {\n",
       "        vertical-align: top;\n",
       "    }\n",
       "\n",
       "    .dataframe thead th {\n",
       "        text-align: right;\n",
       "    }\n",
       "</style>\n",
       "<table border=\"1\" class=\"dataframe\">\n",
       "  <thead>\n",
       "    <tr style=\"text-align: right;\">\n",
       "      <th></th>\n",
       "      <th>Unnamed: 0</th>\n",
       "      <th>question</th>\n",
       "      <th>answer</th>\n",
       "      <th>comments</th>\n",
       "    </tr>\n",
       "  </thead>\n",
       "  <tbody>\n",
       "    <tr>\n",
       "      <th>0</th>\n",
       "      <td>175488</td>\n",
       "      <td>Строительство в столице ГДР нового зоопарка пр...</td>\n",
       "      <td>Аистов.</td>\n",
       "      <td>NaN</td>\n",
       "    </tr>\n",
       "    <tr>\n",
       "      <th>1</th>\n",
       "      <td>172329</td>\n",
       "      <td>В 1832 г. саратовским епископом был назначен п...</td>\n",
       "      <td>Строго следить, чтобы вновь в монастыри никого...</td>\n",
       "      <td>NaN</td>\n",
       "    </tr>\n",
       "    <tr>\n",
       "      <th>2</th>\n",
       "      <td>180980</td>\n",
       "      <td>Информационное агентство РосБизнесКонсалтинг п...</td>\n",
       "      <td>1 апреля 2005 года.</td>\n",
       "      <td>NaN</td>\n",
       "    </tr>\n",
       "    <tr>\n",
       "      <th>3</th>\n",
       "      <td>178167</td>\n",
       "      <td>Вашему вниманию предлагается несколько цитат и...</td>\n",
       "      <td>Туркмен.</td>\n",
       "      <td>Цитировалась книга \"Рухнама\" Сапармурата Туркм...</td>\n",
       "    </tr>\n",
       "    <tr>\n",
       "      <th>4</th>\n",
       "      <td>96150</td>\n",
       "      <td>Первое слово имеет французские корни - так в с...</td>\n",
       "      <td>Крупье, букмекер, азарт.</td>\n",
       "      <td>КРУПЬЕ, нескл., м., одуш. [фр. croupier]. Б...</td>\n",
       "    </tr>\n",
       "  </tbody>\n",
       "</table>\n",
       "</div>"
      ],
      "text/plain": [
       "   Unnamed: 0                                           question  \\\n",
       "0      175488  Строительство в столице ГДР нового зоопарка пр...   \n",
       "1      172329  В 1832 г. саратовским епископом был назначен п...   \n",
       "2      180980  Информационное агентство РосБизнесКонсалтинг п...   \n",
       "3      178167  Вашему вниманию предлагается несколько цитат и...   \n",
       "4       96150  Первое слово имеет французские корни - так в с...   \n",
       "\n",
       "                                              answer  \\\n",
       "0                                            Аистов.   \n",
       "1  Строго следить, чтобы вновь в монастыри никого...   \n",
       "2                                1 апреля 2005 года.   \n",
       "3                                           Туркмен.   \n",
       "4                           Крупье, букмекер, азарт.   \n",
       "\n",
       "                                            comments  \n",
       "0                                                NaN  \n",
       "1                                                NaN  \n",
       "2                                                NaN  \n",
       "3  Цитировалась книга \"Рухнама\" Сапармурата Туркм...  \n",
       "4     КРУПЬЕ, нескл., м., одуш. [фр. croupier]. Б...  "
      ]
     },
     "execution_count": 2,
     "metadata": {},
     "output_type": "execute_result"
    }
   ],
   "source": [
    "data = pd.read_csv(\"../data/dataset_reduced_filtered_super_mega.csv\")\n",
    "data.head()"
   ]
  },
  {
   "cell_type": "code",
   "execution_count": 3,
   "metadata": {},
   "outputs": [
    {
     "data": {
      "text/plain": [
       "0"
      ]
     },
     "execution_count": 3,
     "metadata": {},
     "output_type": "execute_result"
    }
   ],
   "source": [
    "msk = data[\"question\"].map(lambda x: bool(flt.search(x.lower())))\n",
    "msk.sum()"
   ]
  },
  {
   "cell_type": "code",
   "execution_count": 4,
   "metadata": {},
   "outputs": [],
   "source": [
    "data[~msk].to_csv(\"dataset_cleaned.csv\", index=False)"
   ]
  },
  {
   "cell_type": "code",
   "execution_count": null,
   "metadata": {},
   "outputs": [],
   "source": []
  }
 ],
 "metadata": {
  "interpreter": {
   "hash": "71f4a8a05e914619e6ce849cc212b7860cf82baee4b36c2033f2d6275d70daac"
  },
  "kernelspec": {
   "display_name": "Python 3.8.5 64-bit ('ml': pyenv)",
   "name": "python3"
  },
  "language_info": {
   "codemirror_mode": {
    "name": "ipython",
    "version": 3
   },
   "file_extension": ".py",
   "mimetype": "text/x-python",
   "name": "python",
   "nbconvert_exporter": "python",
   "pygments_lexer": "ipython3",
   "version": "3.8.11"
  },
  "orig_nbformat": 4
 },
 "nbformat": 4,
 "nbformat_minor": 2
}
